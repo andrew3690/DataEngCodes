{
 "cells": [
  {
   "cell_type": "code",
   "execution_count": 0,
   "metadata": {
    "application/vnd.databricks.v1+cell": {
     "cellMetadata": {
      "byteLimit": 2048000,
      "rowLimit": 10000
     },
     "inputWidgets": {},
     "nuid": "8d675882-7b01-414a-a69c-a3edb193a4d3",
     "showTitle": false,
     "tableResultSettingsMap": {},
     "title": ""
    }
   },
   "outputs": [
    {
     "name": "stdout",
     "output_type": "stream",
     "text": [
      "The autoreload extension is already loaded. To reload it, use:\n",
      "  %reload_ext autoreload\n"
     ]
    }
   ],
   "source": [
    "%load_ext autoreload\n",
    "%autoreload 2\n",
    "# Enables autoreload; learn more at https://docs.databricks.com/en/files/workspace-modules.html#autoreload-for-python-modules\n",
    "# To disable autoreload; run %autoreload 0"
   ]
  },
  {
   "cell_type": "code",
   "execution_count": null,
   "metadata": {},
   "outputs": [],
   "source": [
    "%reload_ext autoreload"
   ]
  },
  {
   "cell_type": "code",
   "execution_count": 0,
   "metadata": {
    "application/vnd.databricks.v1+cell": {
     "cellMetadata": {
      "byteLimit": 2048000,
      "rowLimit": 10000
     },
     "inputWidgets": {},
     "nuid": "d561cb22-1332-4f3d-8ef9-0fbd85e49fff",
     "showTitle": false,
     "tableResultSettingsMap": {},
     "title": ""
    }
   },
   "outputs": [],
   "source": [
    "from DataDictionaryBuilder import DataDictionaryBuilder"
   ]
  },
  {
   "cell_type": "code",
   "execution_count": 0,
   "metadata": {
    "application/vnd.databricks.v1+cell": {
     "cellMetadata": {
      "byteLimit": 2048000,
      "rowLimit": 10000
     },
     "inputWidgets": {},
     "nuid": "674cde40-c538-4cbf-b5eb-bbaaf440caa6",
     "showTitle": false,
     "tableResultSettingsMap": {},
     "title": ""
    }
   },
   "outputs": [],
   "source": [
    "gdb = DataDictionaryBuilder(\n",
    "    target_catalog='your_catalog'\n",
    "    , target_schema='your_database'\n",
    "    , target_table='your_table'\n",
    "    ,buffer_path='/your_dbfs_path/export_log_buffer_.txt'\n",
    ")"
   ]
  },
  {
   "cell_type": "code",
   "execution_count": 0,
   "metadata": {
    "application/vnd.databricks.v1+cell": {
     "cellMetadata": {
      "byteLimit": 2048000,
      "rowLimit": 10000
     },
     "inputWidgets": {},
     "nuid": "b55a32f0-7d42-4e1a-810c-53fdd46fb975",
     "showTitle": false,
     "tableResultSettingsMap": {},
     "title": ""
    }
   },
   "outputs": [
    {
     "name": "stdout",
     "output_type": "stream",
     "text": [
      "[INFO] Colunas inferidas do buffer: ['catalog', 'schema', 'table', 'column', 'collumn_dtype', 'creation_date', 'creation_time', 'table_description', 'user', 'file_fetched']\n",
      "[OK] Schema 'crawlers_dev.bronze' garantido.\n",
      "[OK] Tabela 'crawlers_dev.bronze.data_dictionary' criada/verificada com sucesso.\n"
     ]
    }
   ],
   "source": [
    "# Rode esta celula apenas para gerar a tabela de governanca de dados\n",
    "gdb.create_governance_infrastructure()"
   ]
  },
  {
   "cell_type": "code",
   "execution_count": 0,
   "metadata": {
    "application/vnd.databricks.v1+cell": {
     "cellMetadata": {
      "byteLimit": 2048000,
      "rowLimit": 10000
     },
     "inputWidgets": {},
     "nuid": "7f3db45b-060c-4858-8878-9babeae26559",
     "showTitle": false,
     "tableResultSettingsMap": {},
     "title": ""
    }
   },
   "outputs": [
    {
     "name": "stdout",
     "output_type": "stream",
     "text": [
      "[OK] Dados carregados do buffer para crawlers_dev.bronze.data_dictionary\n",
      "[OK] Verificação de duplicatas concluída.\n",
      "[OK] Arquivo de buffer '/Volumes/crawlers_dev/bronze/landing/export_log_buffer_.txt' foi limpo, mantendo apenas o cabeçalho.\n"
     ]
    }
   ],
   "source": [
    "gdb.load_buffer_to_governance_table()"
   ]
  },
  {
   "cell_type": "code",
   "execution_count": 0,
   "metadata": {
    "application/vnd.databricks.v1+cell": {
     "cellMetadata": {
      "byteLimit": 2048000,
      "rowLimit": 10000
     },
     "inputWidgets": {},
     "nuid": "851f1f54-c26c-4d07-8bb7-6de8f648b0a4",
     "showTitle": false,
     "tableResultSettingsMap": {},
     "title": ""
    }
   },
   "outputs": [
    {
     "name": "stdout",
     "output_type": "stream",
     "text": [
      "[INFO] Buscando um modelo de IA disponível no ambiente...\n",
      "  -> Testando modelo: 'databricks-dbrx-instruct'...\n",
      "  -> Modelo 'databricks-dbrx-instruct' não disponível. Tentando o próximo.\n",
      "  -> Testando modelo: 'databricks-meta-llama-3-70b-instruct'...\n",
      "  -> Modelo 'databricks-meta-llama-3-70b-instruct' não disponível. Tentando o próximo.\n",
      "  -> Testando modelo: 'databricks-llama-2-70b-chat'...\n",
      "  -> Modelo 'databricks-llama-2-70b-chat' não disponível. Tentando o próximo.\n",
      "[ERRO CRÍTICO] Nenhum modelo de IA na lista priorizada está disponível.\n"
     ]
    }
   ],
   "source": [
    "gdb.generate_and_apply_ai_descriptions()"
   ]
  },
  {
   "cell_type": "code",
   "execution_count": 0,
   "metadata": {
    "application/vnd.databricks.v1+cell": {
     "cellMetadata": {
      "byteLimit": 2048000,
      "rowLimit": 10000
     },
     "inputWidgets": {},
     "nuid": "3471c067-7a93-4db6-b543-c5661fc518ac",
     "showTitle": false,
     "tableResultSettingsMap": {},
     "title": ""
    }
   },
   "outputs": [
    {
     "name": "stdout",
     "output_type": "stream",
     "text": [
      "[OK] Descrições de tabelas replicadas com sucesso em 'crawlers_dev.bronze.data_dictionary'.\n"
     ]
    }
   ],
   "source": [
    "gdb.fetch_table_descriptions()"
   ]
  },
  {
   "cell_type": "code",
   "execution_count": 0,
   "metadata": {
    "application/vnd.databricks.v1+cell": {
     "cellMetadata": {
      "byteLimit": 2048000,
      "rowLimit": 10000
     },
     "inputWidgets": {},
     "nuid": "314977ef-e9e7-4630-befd-fda7ff33cadf",
     "showTitle": false,
     "tableResultSettingsMap": {},
     "title": ""
    }
   },
   "outputs": [],
   "source": [
    "gdb.drop_duplicate_rows()"
   ]
  },
  {
   "cell_type": "code",
   "execution_count": 0,
   "metadata": {
    "application/vnd.databricks.v1+cell": {
     "cellMetadata": {
      "byteLimit": 2048000,
      "implicitDf": true,
      "rowLimit": 10000
     },
     "inputWidgets": {},
     "nuid": "8b9e9f11-ff89-4c11-890c-ba49d22c2c75",
     "showTitle": false,
     "tableResultSettingsMap": {
      "0": {
       "dataGridStateBlob": "{\"version\":1,\"tableState\":{\"columnPinning\":{\"left\":[\"#row_number#\"],\"right\":[]},\"columnSizing\":{\"table_description\":1500,\"table\":244,\"user\":243},\"columnVisibility\":{}},\"settings\":{\"columns\":{}},\"syncTimestamp\":1751990770889}",
       "filterBlob": null,
       "queryPlanFiltersBlob": null,
       "tableResultIndex": 0
      }
     },
     "title": ""
    }
   },
   "outputs": [
    {
     "data": {
      "text/html": [
       "<style scoped>\n",
       "  .table-result-container {\n",
       "    max-height: 300px;\n",
       "    overflow: auto;\n",
       "  }\n",
       "  table, th, td {\n",
       "    border: 1px solid black;\n",
       "    border-collapse: collapse;\n",
       "  }\n",
       "  th, td {\n",
       "    padding: 5px;\n",
       "  }\n",
       "  th {\n",
       "    text-align: left;\n",
       "  }\n",
       "</style><div class='table-result-container'><table class='table-result'><thead style='background-color: white'><tr><th>catalog</th><th>schema</th><th>table</th><th>column</th><th>collumn_dtype</th><th>creation_date</th><th>creation_time</th><th>table_description</th><th>user</th><th>file_fetched</th></tr></thead><tbody><tr><td>crawlers_dev</td><td>bronze</td><td>tl_qtd_familias_beneficiarias_BPC</td><td>ano</td><td>bigint</td><td>2025-07-08</td><td>2025-07-08 19:34:56</td><td>The table contains data related to social benefits, specifically focusing on various types of beneficiaries and their corresponding values. It includes information such as the year and month of the data, the number of beneficiaries for different categories (e.g., elderly, people with disabilities), and the monetary values associated with these benefits. This data can be used for analyzing trends in social assistance programs, evaluating the distribution of benefits, and understanding demographic impacts over time.</td><td>andrezluz25@outlook.com</td><td>/Volumes/crawlers_dev/bronze/landing/bpc/tl_qtd_familias_beneficiarias_BPC.parquet</td></tr><tr><td>crawlers_dev</td><td>bronze</td><td>tl_qtd_familias_beneficiarias_BPC</td><td>anomes</td><td>bigint</td><td>2025-07-08</td><td>2025-07-08 19:34:56</td><td>The table contains data related to social benefits, specifically focusing on various types of beneficiaries and their corresponding values. It includes information such as the year and month of the data, the number of beneficiaries for different categories (e.g., elderly, people with disabilities), and the monetary values associated with these benefits. This data can be used for analyzing trends in social assistance programs, evaluating the distribution of benefits, and understanding demographic impacts over time.</td><td>andrezluz25@outlook.com</td><td>/Volumes/crawlers_dev/bronze/landing/bpc/tl_qtd_familias_beneficiarias_BPC.parquet</td></tr><tr><td>crawlers_dev</td><td>bronze</td><td>tl_qtd_familias_beneficiarias_BPC</td><td>bpc_ben</td><td>bigint</td><td>2025-07-08</td><td>2025-07-08 19:34:56</td><td>The table contains data related to social benefits, specifically focusing on various types of beneficiaries and their corresponding values. It includes information such as the year and month of the data, the number of beneficiaries for different categories (e.g., elderly, people with disabilities), and the monetary values associated with these benefits. This data can be used for analyzing trends in social assistance programs, evaluating the distribution of benefits, and understanding demographic impacts over time.</td><td>andrezluz25@outlook.com</td><td>/Volumes/crawlers_dev/bronze/landing/bpc/tl_qtd_familias_beneficiarias_BPC.parquet</td></tr><tr><td>crawlers_dev</td><td>bronze</td><td>tl_qtd_familias_beneficiarias_BPC</td><td>bpc_idoso_ben</td><td>bigint</td><td>2025-07-08</td><td>2025-07-08 19:34:56</td><td>The table contains data related to social benefits, specifically focusing on various types of beneficiaries and their corresponding values. It includes information such as the year and month of the data, the number of beneficiaries for different categories (e.g., elderly, people with disabilities), and the monetary values associated with these benefits. This data can be used for analyzing trends in social assistance programs, evaluating the distribution of benefits, and understanding demographic impacts over time.</td><td>andrezluz25@outlook.com</td><td>/Volumes/crawlers_dev/bronze/landing/bpc/tl_qtd_familias_beneficiarias_BPC.parquet</td></tr><tr><td>crawlers_dev</td><td>bronze</td><td>tl_qtd_familias_beneficiarias_BPC</td><td>bpc_idoso_val</td><td>double</td><td>2025-07-08</td><td>2025-07-08 19:34:56</td><td>The table contains data related to social benefits, specifically focusing on various types of beneficiaries and their corresponding values. It includes information such as the year and month of the data, the number of beneficiaries for different categories (e.g., elderly, people with disabilities), and the monetary values associated with these benefits. This data can be used for analyzing trends in social assistance programs, evaluating the distribution of benefits, and understanding demographic impacts over time.</td><td>andrezluz25@outlook.com</td><td>/Volumes/crawlers_dev/bronze/landing/bpc/tl_qtd_familias_beneficiarias_BPC.parquet</td></tr><tr><td>crawlers_dev</td><td>bronze</td><td>tl_qtd_familias_beneficiarias_BPC</td><td>bpc_pcd_ben</td><td>bigint</td><td>2025-07-08</td><td>2025-07-08 19:34:56</td><td>The table contains data related to social benefits, specifically focusing on various types of beneficiaries and their corresponding values. It includes information such as the year and month of the data, the number of beneficiaries for different categories (e.g., elderly, people with disabilities), and the monetary values associated with these benefits. This data can be used for analyzing trends in social assistance programs, evaluating the distribution of benefits, and understanding demographic impacts over time.</td><td>andrezluz25@outlook.com</td><td>/Volumes/crawlers_dev/bronze/landing/bpc/tl_qtd_familias_beneficiarias_BPC.parquet</td></tr><tr><td>crawlers_dev</td><td>bronze</td><td>tl_qtd_familias_beneficiarias_BPC</td><td>bpc_pcd_val</td><td>double</td><td>2025-07-08</td><td>2025-07-08 19:34:56</td><td>The table contains data related to social benefits, specifically focusing on various types of beneficiaries and their corresponding values. It includes information such as the year and month of the data, the number of beneficiaries for different categories (e.g., elderly, people with disabilities), and the monetary values associated with these benefits. This data can be used for analyzing trends in social assistance programs, evaluating the distribution of benefits, and understanding demographic impacts over time.</td><td>andrezluz25@outlook.com</td><td>/Volumes/crawlers_dev/bronze/landing/bpc/tl_qtd_familias_beneficiarias_BPC.parquet</td></tr><tr><td>crawlers_dev</td><td>bronze</td><td>tl_qtd_familias_beneficiarias_BPC</td><td>bpc_val</td><td>double</td><td>2025-07-08</td><td>2025-07-08 19:34:56</td><td>The table contains data related to social benefits, specifically focusing on various types of beneficiaries and their corresponding values. It includes information such as the year and month of the data, the number of beneficiaries for different categories (e.g., elderly, people with disabilities), and the monetary values associated with these benefits. This data can be used for analyzing trends in social assistance programs, evaluating the distribution of benefits, and understanding demographic impacts over time.</td><td>andrezluz25@outlook.com</td><td>/Volumes/crawlers_dev/bronze/landing/bpc/tl_qtd_familias_beneficiarias_BPC.parquet</td></tr><tr><td>crawlers_dev</td><td>bronze</td><td>tl_qtd_familias_beneficiarias_BPC</td><td>ibge</td><td>bigint</td><td>2025-07-08</td><td>2025-07-08 19:34:56</td><td>The table contains data related to social benefits, specifically focusing on various types of beneficiaries and their corresponding values. It includes information such as the year and month of the data, the number of beneficiaries for different categories (e.g., elderly, people with disabilities), and the monetary values associated with these benefits. This data can be used for analyzing trends in social assistance programs, evaluating the distribution of benefits, and understanding demographic impacts over time.</td><td>andrezluz25@outlook.com</td><td>/Volumes/crawlers_dev/bronze/landing/bpc/tl_qtd_familias_beneficiarias_BPC.parquet</td></tr></tbody></table></div>"
      ]
     },
     "metadata": {
      "application/vnd.databricks.v1+output": {
       "addedWidgets": {},
       "aggData": [],
       "aggError": "",
       "aggOverflow": false,
       "aggSchema": [],
       "aggSeriesLimitReached": false,
       "aggType": "",
       "arguments": {},
       "columnCustomDisplayInfos": {},
       "data": [
        [
         "crawlers_dev",
         "bronze",
         "tl_qtd_familias_beneficiarias_BPC",
         "ano",
         "bigint",
         "2025-07-08",
         "2025-07-08 19:34:56",
         "The table contains data related to social benefits, specifically focusing on various types of beneficiaries and their corresponding values. It includes information such as the year and month of the data, the number of beneficiaries for different categories (e.g., elderly, people with disabilities), and the monetary values associated with these benefits. This data can be used for analyzing trends in social assistance programs, evaluating the distribution of benefits, and understanding demographic impacts over time.",
         "andrezluz25@outlook.com",
         "/Volumes/crawlers_dev/bronze/landing/bpc/tl_qtd_familias_beneficiarias_BPC.parquet"
        ],
        [
         "crawlers_dev",
         "bronze",
         "tl_qtd_familias_beneficiarias_BPC",
         "anomes",
         "bigint",
         "2025-07-08",
         "2025-07-08 19:34:56",
         "The table contains data related to social benefits, specifically focusing on various types of beneficiaries and their corresponding values. It includes information such as the year and month of the data, the number of beneficiaries for different categories (e.g., elderly, people with disabilities), and the monetary values associated with these benefits. This data can be used for analyzing trends in social assistance programs, evaluating the distribution of benefits, and understanding demographic impacts over time.",
         "andrezluz25@outlook.com",
         "/Volumes/crawlers_dev/bronze/landing/bpc/tl_qtd_familias_beneficiarias_BPC.parquet"
        ],
        [
         "crawlers_dev",
         "bronze",
         "tl_qtd_familias_beneficiarias_BPC",
         "bpc_ben",
         "bigint",
         "2025-07-08",
         "2025-07-08 19:34:56",
         "The table contains data related to social benefits, specifically focusing on various types of beneficiaries and their corresponding values. It includes information such as the year and month of the data, the number of beneficiaries for different categories (e.g., elderly, people with disabilities), and the monetary values associated with these benefits. This data can be used for analyzing trends in social assistance programs, evaluating the distribution of benefits, and understanding demographic impacts over time.",
         "andrezluz25@outlook.com",
         "/Volumes/crawlers_dev/bronze/landing/bpc/tl_qtd_familias_beneficiarias_BPC.parquet"
        ],
        [
         "crawlers_dev",
         "bronze",
         "tl_qtd_familias_beneficiarias_BPC",
         "bpc_idoso_ben",
         "bigint",
         "2025-07-08",
         "2025-07-08 19:34:56",
         "The table contains data related to social benefits, specifically focusing on various types of beneficiaries and their corresponding values. It includes information such as the year and month of the data, the number of beneficiaries for different categories (e.g., elderly, people with disabilities), and the monetary values associated with these benefits. This data can be used for analyzing trends in social assistance programs, evaluating the distribution of benefits, and understanding demographic impacts over time.",
         "andrezluz25@outlook.com",
         "/Volumes/crawlers_dev/bronze/landing/bpc/tl_qtd_familias_beneficiarias_BPC.parquet"
        ],
        [
         "crawlers_dev",
         "bronze",
         "tl_qtd_familias_beneficiarias_BPC",
         "bpc_idoso_val",
         "double",
         "2025-07-08",
         "2025-07-08 19:34:56",
         "The table contains data related to social benefits, specifically focusing on various types of beneficiaries and their corresponding values. It includes information such as the year and month of the data, the number of beneficiaries for different categories (e.g., elderly, people with disabilities), and the monetary values associated with these benefits. This data can be used for analyzing trends in social assistance programs, evaluating the distribution of benefits, and understanding demographic impacts over time.",
         "andrezluz25@outlook.com",
         "/Volumes/crawlers_dev/bronze/landing/bpc/tl_qtd_familias_beneficiarias_BPC.parquet"
        ],
        [
         "crawlers_dev",
         "bronze",
         "tl_qtd_familias_beneficiarias_BPC",
         "bpc_pcd_ben",
         "bigint",
         "2025-07-08",
         "2025-07-08 19:34:56",
         "The table contains data related to social benefits, specifically focusing on various types of beneficiaries and their corresponding values. It includes information such as the year and month of the data, the number of beneficiaries for different categories (e.g., elderly, people with disabilities), and the monetary values associated with these benefits. This data can be used for analyzing trends in social assistance programs, evaluating the distribution of benefits, and understanding demographic impacts over time.",
         "andrezluz25@outlook.com",
         "/Volumes/crawlers_dev/bronze/landing/bpc/tl_qtd_familias_beneficiarias_BPC.parquet"
        ],
        [
         "crawlers_dev",
         "bronze",
         "tl_qtd_familias_beneficiarias_BPC",
         "bpc_pcd_val",
         "double",
         "2025-07-08",
         "2025-07-08 19:34:56",
         "The table contains data related to social benefits, specifically focusing on various types of beneficiaries and their corresponding values. It includes information such as the year and month of the data, the number of beneficiaries for different categories (e.g., elderly, people with disabilities), and the monetary values associated with these benefits. This data can be used for analyzing trends in social assistance programs, evaluating the distribution of benefits, and understanding demographic impacts over time.",
         "andrezluz25@outlook.com",
         "/Volumes/crawlers_dev/bronze/landing/bpc/tl_qtd_familias_beneficiarias_BPC.parquet"
        ],
        [
         "crawlers_dev",
         "bronze",
         "tl_qtd_familias_beneficiarias_BPC",
         "bpc_val",
         "double",
         "2025-07-08",
         "2025-07-08 19:34:56",
         "The table contains data related to social benefits, specifically focusing on various types of beneficiaries and their corresponding values. It includes information such as the year and month of the data, the number of beneficiaries for different categories (e.g., elderly, people with disabilities), and the monetary values associated with these benefits. This data can be used for analyzing trends in social assistance programs, evaluating the distribution of benefits, and understanding demographic impacts over time.",
         "andrezluz25@outlook.com",
         "/Volumes/crawlers_dev/bronze/landing/bpc/tl_qtd_familias_beneficiarias_BPC.parquet"
        ],
        [
         "crawlers_dev",
         "bronze",
         "tl_qtd_familias_beneficiarias_BPC",
         "ibge",
         "bigint",
         "2025-07-08",
         "2025-07-08 19:34:56",
         "The table contains data related to social benefits, specifically focusing on various types of beneficiaries and their corresponding values. It includes information such as the year and month of the data, the number of beneficiaries for different categories (e.g., elderly, people with disabilities), and the monetary values associated with these benefits. This data can be used for analyzing trends in social assistance programs, evaluating the distribution of benefits, and understanding demographic impacts over time.",
         "andrezluz25@outlook.com",
         "/Volumes/crawlers_dev/bronze/landing/bpc/tl_qtd_familias_beneficiarias_BPC.parquet"
        ]
       ],
       "datasetInfos": [
        {
         "name": "_sqldf",
         "schema": {
          "fields": [
           {
            "metadata": {},
            "name": "catalog",
            "nullable": true,
            "type": "string"
           },
           {
            "metadata": {},
            "name": "schema",
            "nullable": true,
            "type": "string"
           },
           {
            "metadata": {},
            "name": "table",
            "nullable": true,
            "type": "string"
           },
           {
            "metadata": {},
            "name": "column",
            "nullable": true,
            "type": "string"
           },
           {
            "metadata": {},
            "name": "collumn_dtype",
            "nullable": true,
            "type": "string"
           },
           {
            "metadata": {},
            "name": "creation_date",
            "nullable": true,
            "type": "string"
           },
           {
            "metadata": {},
            "name": "creation_time",
            "nullable": true,
            "type": "string"
           },
           {
            "metadata": {},
            "name": "table_description",
            "nullable": true,
            "type": "string"
           },
           {
            "metadata": {},
            "name": "user",
            "nullable": true,
            "type": "string"
           },
           {
            "metadata": {},
            "name": "file_fetched",
            "nullable": true,
            "type": "string"
           }
          ],
          "type": "struct"
         },
         "tableIdentifier": null,
         "typeStr": "pyspark.sql.connect.dataframe.DataFrame"
        }
       ],
       "dbfsResultPath": null,
       "isJsonSchema": true,
       "metadata": {
        "createTempViewForImplicitDf": true,
        "dataframeName": "_sqldf",
        "executionCount": 39
       },
       "overflow": false,
       "plotOptions": {
        "customPlotOptions": {},
        "displayType": "table",
        "pivotAggregation": null,
        "pivotColumns": null,
        "xColumns": null,
        "yColumns": null
       },
       "removedWidgets": [],
       "schema": [
        {
         "metadata": "{}",
         "name": "catalog",
         "type": "\"string\""
        },
        {
         "metadata": "{}",
         "name": "schema",
         "type": "\"string\""
        },
        {
         "metadata": "{}",
         "name": "table",
         "type": "\"string\""
        },
        {
         "metadata": "{}",
         "name": "column",
         "type": "\"string\""
        },
        {
         "metadata": "{}",
         "name": "collumn_dtype",
         "type": "\"string\""
        },
        {
         "metadata": "{}",
         "name": "creation_date",
         "type": "\"string\""
        },
        {
         "metadata": "{}",
         "name": "creation_time",
         "type": "\"string\""
        },
        {
         "metadata": "{}",
         "name": "table_description",
         "type": "\"string\""
        },
        {
         "metadata": "{}",
         "name": "user",
         "type": "\"string\""
        },
        {
         "metadata": "{}",
         "name": "file_fetched",
         "type": "\"string\""
        }
       ],
       "type": "table"
      }
     },
     "output_type": "display_data"
    }
   ],
   "source": [
    "%sql\n",
    "SELECT\n",
    "  *\n",
    "FROM your_catalog.your_database.your_table"
   ]
  },
  {
   "cell_type": "code",
   "execution_count": 0,
   "metadata": {
    "application/vnd.databricks.v1+cell": {
     "cellMetadata": {
      "byteLimit": 2048000,
      "implicitDf": true,
      "rowLimit": 10000
     },
     "inputWidgets": {},
     "nuid": "74a819e2-be12-4251-a873-ba99eb5b7da9",
     "showTitle": false,
     "tableResultSettingsMap": {},
     "title": ""
    }
   },
   "outputs": [],
   "source": [
    "%sql\n",
    "--DROP TABLE your_catalog.your_database.your_table"
   ]
  }
 ],
 "metadata": {
  "application/vnd.databricks.v1+notebook": {
   "computePreferences": null,
   "dashboards": [],
   "environmentMetadata": {
    "base_environment": "",
    "environment_version": "2"
   },
   "inputWidgetPreferences": null,
   "language": "python",
   "notebookMetadata": {
    "mostRecentlyExecutedCommandWithImplicitDF": {
     "commandId": 8198360100970074,
     "dataframes": [
      "_sqldf"
     ]
    },
    "pythonIndentUnit": 4
   },
   "notebookName": "DataDictManager",
   "widgets": {}
  },
  "language_info": {
   "name": "python"
  }
 },
 "nbformat": 4,
 "nbformat_minor": 0
}
