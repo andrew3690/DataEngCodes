{
 "cells": [
  {
   "cell_type": "markdown",
   "metadata": {
    "application/vnd.databricks.v1+cell": {
     "cellMetadata": {},
     "inputWidgets": {},
     "nuid": "bb1bb8ee-a18e-450d-ac6c-fd9825a59619",
     "showTitle": false,
     "tableResultSettingsMap": {},
     "title": ""
    }
   },
   "source": [
    "## Instala módulos"
   ]
  },
  {
   "cell_type": "code",
   "execution_count": 4,
   "metadata": {
    "application/vnd.databricks.v1+cell": {
     "cellMetadata": {},
     "inputWidgets": {},
     "nuid": "aa5ed3f4-c3c0-4d5e-a533-05d51000f99b",
     "showTitle": false,
     "tableResultSettingsMap": {},
     "title": ""
    }
   },
   "outputs": [],
   "source": [
    "# !pip3 install pytz\n",
    "# !pip3 install bamboolib\n",
    "# !pip3 install pyspark\n",
    "# !pip3 install spark"
   ]
  },
  {
   "cell_type": "markdown",
   "metadata": {
    "application/vnd.databricks.v1+cell": {
     "cellMetadata": {},
     "inputWidgets": {},
     "nuid": "7f50c0e0-0dab-4c32-9525-31347386c11b",
     "showTitle": false,
     "tableResultSettingsMap": {},
     "title": ""
    }
   },
   "source": [
    "## Importa bibliotecas"
   ]
  },
  {
   "cell_type": "code",
   "execution_count": 5,
   "metadata": {
    "application/vnd.databricks.v1+cell": {
     "cellMetadata": {},
     "inputWidgets": {},
     "nuid": "f0b80e24-df84-4913-83ef-89a442ffc249",
     "showTitle": false,
     "tableResultSettingsMap": {},
     "title": ""
    }
   },
   "outputs": [
    {
     "ename": "ModuleNotFoundError",
     "evalue": "No module named 'pyspark'",
     "output_type": "error",
     "traceback": [
      "\u001b[1;31m---------------------------------------------------------------------------\u001b[0m",
      "\u001b[1;31mModuleNotFoundError\u001b[0m                       Traceback (most recent call last)",
      "Cell \u001b[1;32mIn[5], line 14\u001b[0m\n\u001b[0;32m     12\u001b[0m \u001b[38;5;28;01mfrom\u001b[39;00m\u001b[38;5;250m \u001b[39m\u001b[38;5;21;01mselenium\u001b[39;00m\u001b[38;5;21;01m.\u001b[39;00m\u001b[38;5;21;01mwebdriver\u001b[39;00m\u001b[38;5;21;01m.\u001b[39;00m\u001b[38;5;21;01mcommon\u001b[39;00m\u001b[38;5;21;01m.\u001b[39;00m\u001b[38;5;21;01mby\u001b[39;00m\u001b[38;5;250m \u001b[39m\u001b[38;5;28;01mimport\u001b[39;00m By\n\u001b[0;32m     13\u001b[0m \u001b[38;5;28;01mfrom\u001b[39;00m\u001b[38;5;250m \u001b[39m\u001b[38;5;21;01mselenium\u001b[39;00m\u001b[38;5;21;01m.\u001b[39;00m\u001b[38;5;21;01mcommon\u001b[39;00m\u001b[38;5;21;01m.\u001b[39;00m\u001b[38;5;21;01mexceptions\u001b[39;00m\u001b[38;5;250m \u001b[39m\u001b[38;5;28;01mimport\u001b[39;00m ElementClickInterceptedException, NoSuchElementException, ElementNotInteractableException\n\u001b[1;32m---> 14\u001b[0m \u001b[38;5;28;01mfrom\u001b[39;00m\u001b[38;5;250m \u001b[39m\u001b[38;5;21;01mpyspark\u001b[39;00m\u001b[38;5;21;01m.\u001b[39;00m\u001b[38;5;21;01msql\u001b[39;00m\u001b[38;5;21;01m.\u001b[39;00m\u001b[38;5;21;01mfunctions\u001b[39;00m\u001b[38;5;250m \u001b[39m\u001b[38;5;28;01mimport\u001b[39;00m current_timestamp\n\u001b[0;32m     16\u001b[0m logger\u001b[38;5;241m=\u001b[39mlogging\u001b[38;5;241m.\u001b[39mgetLogger()\n\u001b[0;32m     17\u001b[0m spark\u001b[38;5;241m.\u001b[39mconf\u001b[38;5;241m.\u001b[39mset(\u001b[38;5;124m\"\u001b[39m\u001b[38;5;124mspark.sql.execution.arrow.pyspark.enabled\u001b[39m\u001b[38;5;124m\"\u001b[39m, \u001b[38;5;124m\"\u001b[39m\u001b[38;5;124mtrue\u001b[39m\u001b[38;5;124m\"\u001b[39m)\n",
      "\u001b[1;31mModuleNotFoundError\u001b[0m: No module named 'pyspark'"
     ]
    }
   ],
   "source": [
    "import os\n",
    "import time\n",
    "import datetime \n",
    "import pytz\n",
    "import logging\n",
    "import pandas as pd\n",
    "import csv\n",
    "import enum\n",
    "\n",
    "from selenium import webdriver\n",
    "from selenium.webdriver.chrome.service import Service\n",
    "from selenium.webdriver.common.by import By\n",
    "from selenium.common.exceptions import ElementClickInterceptedException, NoSuchElementException, ElementNotInteractableException\n",
    "from pyspark.sql.functions import current_timestamp\n",
    "\n",
    "logger=logging.getLogger()\n",
    "spark.conf.set(\"spark.sql.execution.arrow.pyspark.enabled\", \"true\")"
   ]
  },
  {
   "cell_type": "markdown",
   "metadata": {
    "application/vnd.databricks.v1+cell": {
     "cellMetadata": {},
     "inputWidgets": {},
     "nuid": "472c7d06-5590-4c6f-ab01-a5d4426093b4",
     "showTitle": false,
     "tableResultSettingsMap": {},
     "title": ""
    }
   },
   "source": [
    "## Define diretórios"
   ]
  },
  {
   "cell_type": "code",
   "execution_count": null,
   "metadata": {
    "application/vnd.databricks.v1+cell": {
     "cellMetadata": {},
     "inputWidgets": {},
     "nuid": "d83116b6-725e-4309-ab26-2a69fbdd6407",
     "showTitle": false,
     "tableResultSettingsMap": {},
     "title": ""
    }
   },
   "outputs": [],
   "source": [
    "LOCAL_DIRECTORY = os.getcwd() + \"/\"\n",
    "DATABASE_PATH = \".\""
   ]
  },
  {
   "cell_type": "markdown",
   "metadata": {
    "application/vnd.databricks.v1+cell": {
     "cellMetadata": {},
     "inputWidgets": {},
     "nuid": "efc59c75-5428-4672-9642-9148e73d6ca4",
     "showTitle": false,
     "tableResultSettingsMap": {},
     "title": ""
    }
   },
   "source": [
    "## Define tipos de download"
   ]
  },
  {
   "cell_type": "code",
   "execution_count": null,
   "metadata": {
    "application/vnd.databricks.v1+cell": {
     "cellMetadata": {},
     "inputWidgets": {},
     "nuid": "1f654d4b-c8a0-487d-96df-c4475c0e4a07",
     "showTitle": false,
     "tableResultSettingsMap": {},
     "title": ""
    }
   },
   "outputs": [],
   "source": [
    "class DownloadType(enum.Enum):\n",
    "    RS = 1\n",
    "    AE = 2"
   ]
  },
  {
   "cell_type": "markdown",
   "metadata": {
    "application/vnd.databricks.v1+cell": {
     "cellMetadata": {},
     "inputWidgets": {},
     "nuid": "ba280f96-b7d1-4121-9cf9-4a2de8b3132a",
     "showTitle": false,
     "tableResultSettingsMap": {},
     "title": ""
    }
   },
   "source": [
    "## Cria uma nova instância do webdriver"
   ]
  },
  {
   "cell_type": "code",
   "execution_count": null,
   "metadata": {
    "application/vnd.databricks.v1+cell": {
     "cellMetadata": {},
     "inputWidgets": {},
     "nuid": "2b3aef6c-83de-473b-acb1-a6ea8dcc90e3",
     "showTitle": false,
     "tableResultSettingsMap": {},
     "title": ""
    }
   },
   "outputs": [],
   "source": [
    "def create_driver_instance():\n",
    "    s = Service('/tmp/chrome/latest/chromedriver_linux64/chromedriver')\n",
    "    chrome_options = webdriver.ChromeOptions()\n",
    "    chrome_options.binary_location = \"/tmp/chrome/latest/chrome-linux/chrome\"\n",
    "    chrome_options.add_argument('--headless')\n",
    "    chrome_options.add_argument('--no-sandbox')\n",
    "    chrome_options.add_argument('--disable-dev-shm-usage')\n",
    "\n",
    "    wd_chrome = webdriver.Chrome(service=s ,options=chrome_options)\n",
    "    wd_chrome.get('http://app4.mdr.gov.br/serieHistorica/')\n",
    "    wd_chrome.implicitly_wait(8)\n",
    "    \n",
    "    return wd_chrome"
   ]
  },
  {
   "cell_type": "markdown",
   "metadata": {
    "application/vnd.databricks.v1+cell": {
     "cellMetadata": {},
     "inputWidgets": {},
     "nuid": "5cfc6270-63d8-41a3-b879-b2e331538058",
     "showTitle": false,
     "tableResultSettingsMap": {},
     "title": ""
    }
   },
   "source": [
    "## Verifica se um determinado path existe"
   ]
  },
  {
   "cell_type": "code",
   "execution_count": null,
   "metadata": {
    "application/vnd.databricks.v1+cell": {
     "cellMetadata": {},
     "inputWidgets": {},
     "nuid": "d4f0c5c0-11d1-4394-8cd8-2a2f62a5b021",
     "showTitle": false,
     "tableResultSettingsMap": {},
     "title": ""
    }
   },
   "outputs": [],
   "source": [
    "def path_exists(path):\n",
    "    try:\n",
    "        dbutils.fs.ls(path)\n",
    "        return True\n",
    "    except:\n",
    "        return False"
   ]
  },
  {
   "cell_type": "markdown",
   "metadata": {
    "application/vnd.databricks.v1+cell": {
     "cellMetadata": {},
     "inputWidgets": {},
     "nuid": "a35b5c08-c816-47bd-b90d-df221d809821",
     "showTitle": false,
     "tableResultSettingsMap": {},
     "title": ""
    }
   },
   "source": [
    "## Trata exceções"
   ]
  },
  {
   "cell_type": "code",
   "execution_count": null,
   "metadata": {
    "application/vnd.databricks.v1+cell": {
     "cellMetadata": {},
     "inputWidgets": {},
     "nuid": "259f35d2-806f-4917-a22e-938d38d6e030",
     "showTitle": false,
     "tableResultSettingsMap": {},
     "title": ""
    }
   },
   "outputs": [],
   "source": [
    "def try_click(element):\n",
    "    \n",
    "    sleep_time = 0.5\n",
    "    while (True):   \n",
    "        try:\n",
    "            element.click()\n",
    "            break\n",
    "        except (ElementClickInterceptedException, ElementNotInteractableException):\n",
    "            if sleep_time >= 6:\n",
    "                print(f\"Erro ao tentar clicar no elemento: {element.text}\")\n",
    "                break\n",
    "\n",
    "            time.sleep(sleep_time)\n",
    "            sleep_time += 0.5"
   ]
  },
  {
   "cell_type": "code",
   "execution_count": null,
   "metadata": {
    "application/vnd.databricks.v1+cell": {
     "cellMetadata": {},
     "inputWidgets": {},
     "nuid": "a02151d5-e961-4565-ace5-84ae63e10dcb",
     "showTitle": false,
     "tableResultSettingsMap": {},
     "title": ""
    }
   },
   "outputs": [],
   "source": [
    "def try_find_element(xpath, driver):\n",
    "    \n",
    "    sleep_time = 0.5\n",
    "    while (True):   \n",
    "        try:\n",
    "            element = driver.find_element(By.XPATH,xpath)\n",
    "            return element\n",
    "        except NoSuchElementException:\n",
    "            if sleep_time >= 6:\n",
    "                print(f\"Erro no xpath: {xpath}\")\n",
    "                break\n",
    "\n",
    "            time.sleep(sleep_time)\n",
    "            sleep_time += 0.5"
   ]
  },
  {
   "cell_type": "code",
   "execution_count": null,
   "metadata": {
    "application/vnd.databricks.v1+cell": {
     "cellMetadata": {},
     "inputWidgets": {},
     "nuid": "3f81e6f9-4052-4f5d-b58a-e725d564ede7",
     "showTitle": false,
     "tableResultSettingsMap": {},
     "title": ""
    }
   },
   "outputs": [],
   "source": [
    "def add_bold_string(string): \n",
    "    return f'\\033[1m{string}\\033[0m'"
   ]
  },
  {
   "cell_type": "code",
   "execution_count": null,
   "metadata": {
    "application/vnd.databricks.v1+cell": {
     "cellMetadata": {},
     "inputWidgets": {},
     "nuid": "0e240042-070f-45fd-847d-14004712b0d2",
     "showTitle": false,
     "tableResultSettingsMap": {},
     "title": ""
    }
   },
   "outputs": [],
   "source": [
    "def fix_null_bytes(file_path):\n",
    "\n",
    "    df = None\n",
    "    with open(file_path, 'rb') as file:\n",
    "        data = file.read().replace(b'\\x00', b'')\n",
    "        decoded_data = data.decode('ISO-8859-1')\n",
    "        reader = csv.reader(decoded_data.splitlines(), delimiter=';')\n",
    "        rows = [row for row in reader] \n",
    "        clean_columns = rows[0].copy()\n",
    "        clean_columns.append('Null Column')\n",
    "        df = pd.DataFrame(rows[1:], columns=clean_columns)\n",
    "        df.drop('Null Column', axis=1, inplace=True)\n",
    "\n",
    "    return df"
   ]
  },
  {
   "cell_type": "markdown",
   "metadata": {
    "application/vnd.databricks.v1+cell": {
     "cellMetadata": {},
     "inputWidgets": {},
     "nuid": "0b8b3bd1-ad6c-42fa-9253-2607b7b51785",
     "showTitle": false,
     "tableResultSettingsMap": {},
     "title": ""
    }
   },
   "source": [
    "## Baixa dados por tipo"
   ]
  },
  {
   "cell_type": "code",
   "execution_count": null,
   "metadata": {
    "application/vnd.databricks.v1+cell": {
     "cellMetadata": {},
     "inputWidgets": {},
     "nuid": "99c2ee35-8672-49be-b5e9-47570e2719d2",
     "showTitle": false,
     "tableResultSettingsMap": {},
     "title": ""
    }
   },
   "outputs": [],
   "source": [
    "def download_file(driver, download_type):\n",
    "    section1 = try_find_element('//*[@id=\"menu-item-mun\"]/i', driver)  # Municípios\n",
    "    try_click(section1)\n",
    "\n",
    "    section2 = try_find_element('//*[@id=\"oculto\"]/li[2]/a', driver) # Informações e indicadores municipais consolidados\n",
    "    try_click(section2)    \n",
    "\n",
    "    button1 = try_find_element('//*[@id=\"frm_filtros\"]/fieldset[1]/p[1]/button', driver)  # Tipo Informação\n",
    "    try_click(button1)\n",
    "\n",
    "    if (download_type == DownloadType.RS):\n",
    "        button2 = try_find_element('//*[@id=\"multiselect_menu_tipo_info\"]/ul/li[3]/label', driver) # Municípios com informações de resíduo sólido\n",
    "        try_click(button2)\n",
    "\n",
    "    elif (download_type == DownloadType.AE):\n",
    "        button2 = try_find_element('//*[@id=\"multiselect_menu_tipo_info\"]/ul/li[2]/label/span', driver) # Municípios com informações de água e esgoto\n",
    "        try_click(button2)\n",
    "\n",
    "    button3 = try_find_element('//*[@id=\"frm_filtros\"]/fieldset[1]/p[2]/button', driver) # Ano de Referência\n",
    "    try_click(button3)   \n",
    "    \n",
    "    button4 = try_find_element('//*[@id=\"multiselect_menu_ano_ref\"]/div/ul/li[1]/a/span[2]', driver) # Marcar todos\n",
    "    try_click(button4)   \n",
    "    \n",
    "    no_button = try_find_element('//*[@id=\"div_realize_consulta\"]/div', driver)\n",
    "    try_click(no_button)\n",
    "     \n",
    "    button5 = try_find_element('//*[@id=\"frm_filtros\"]/fieldset[2]/p[1]/button/span[1]', driver) # Região\n",
    "    try_click(button5)\n",
    "\n",
    "    button6 = try_find_element('//*[@id=\"multiselect_menu_cod_reg_geo\"]/ul/li[5]/label', driver) # Sul\n",
    "    try_click(button6)      \n",
    "    \n",
    "    try_click(no_button)\n",
    "       \n",
    "    button7 = try_find_element('//*[@id=\"frm_filtros\"]/fieldset[2]/p[2]/button', driver) # Estado\n",
    "    try_click(button7)\n",
    "\n",
    "    button8 = try_find_element('//*[@id=\"multiselect_menu_sgl_est\"]/ul/li[3]/label', driver) # Santa Catarina\n",
    "    try_click(button8)      \n",
    "    \n",
    "    try_click(no_button)\n",
    "       \n",
    "    button9 = try_find_element('//*[@id=\"frm_filtros\"]/fieldset[3]/p/button/span[1]', driver) # Municípios\n",
    "    try_click(button9)\n",
    "\n",
    "    button10 = try_find_element('//*[@id=\"multiselect_menu_cod_mun\"]/div/ul/li[1]/a/span[2]', driver) # Marcar Todos\n",
    "    try_click(button10)       \n",
    "    \n",
    "    try_click(no_button)\n",
    "    \n",
    "    button11 = try_find_element('//*[@id=\"bt_gerar\"]/span/i', driver) # Continuar\n",
    "    try_click(button11)\n",
    "\n",
    "    button12 = try_find_element('//*[@id=\"frm_colunas\"]/p[1]/button/span[1]', driver) # Famílias de Informações e Indicadores\n",
    "    try_click(button12)\n",
    "\n",
    "    if (download_type == DownloadType.RS):\n",
    "        inputElement = try_find_element('//*[@id=\"multiselect_menu_cod_fam_info\"]/div/div/input', driver)\n",
    "        inputElement.send_keys('rs')\n",
    "    elif (download_type == DownloadType.AE):\n",
    "        inputElement = try_find_element('//*[@id=\"multiselect_menu_cod_fam_info\"]/div/div/input', driver)\n",
    "        inputElement.send_keys('ae')\n",
    "    \n",
    "    button13 = try_find_element('//*[@id=\"multiselect_menu_cod_fam_info\"]/div/ul/li[1]/a/span[2]', driver) # Marcar Todos\n",
    "    try_click(button13)\n",
    "\n",
    "    if (download_type == DownloadType.RS):\n",
    "        button14 = try_find_element('//*[@id=\"multiselect_menu_cod_fam_info\"]/ul/li[11]/label', driver) # RS - Informações fianceiras\n",
    "        try_click(button14)\n",
    "\n",
    "    elif (download_type == DownloadType.AE):\n",
    "        button14 = try_find_element('//*[@id=\"multiselect_menu_cod_fam_info\"]/ul/li[2]/label/span', driver) # AE - Informações financeiras\n",
    "        try_click(button14)\n",
    "\n",
    "        button15 = try_find_element('//*[@id=\"multiselect_menu_cod_fam_info\"]/ul/li[6]/label/span', driver) # AE - Indicadores econômico-financeiros e administrativos\n",
    "        try_click(button15)\n",
    "\n",
    "    try_click(no_button)\n",
    "\n",
    "    try_click(button11)\n",
    "\n",
    "    button14 = try_find_element('//*[@id=\"bt_relatorio\"]', driver) # Gerar planilha\n",
    "    try_click(button14)\n",
    "\n",
    "    button15 = try_find_element('/html/body/div[14]/div[2]/a[1]', driver)\n",
    "    try_click(button15)\n",
    "    \n",
    "    button16 = try_find_element('/html/body/div[14]/div[2]/a[2]', driver) # Fechar\n",
    "    try_click(button16)\n",
    "\n",
    "    button17 = try_find_element('//*[@id=\"menu-item-home\"]/i', driver)\n",
    "    try_click(button17)\n"
   ]
  },
  {
   "cell_type": "markdown",
   "metadata": {
    "application/vnd.databricks.v1+cell": {
     "cellMetadata": {},
     "inputWidgets": {},
     "nuid": "a579221c-9732-46af-861b-00c41ec8a7e6",
     "showTitle": false,
     "tableResultSettingsMap": {},
     "title": ""
    }
   },
   "source": [
    "## Baixa todos os arquivos"
   ]
  },
  {
   "cell_type": "code",
   "execution_count": null,
   "metadata": {
    "application/vnd.databricks.v1+cell": {
     "cellMetadata": {},
     "inputWidgets": {},
     "nuid": "18001cbe-4954-4e77-93a2-163fd8079031",
     "showTitle": false,
     "tableResultSettingsMap": {},
     "title": ""
    }
   },
   "outputs": [],
   "source": [
    "my_timezone = \"Brazil/East\"\n",
    "brazil_tz = pytz.timezone(my_timezone) \n",
    "current_date = datetime.datetime.now(brazil_tz)\n",
    "\n",
    "try:\n",
    "    driver = create_driver_instance()\n",
    "\n",
    "    for download_type in DownloadType:\n",
    "        if (download_type == DownloadType.RS):\n",
    "            print(\"Resíduos Sólidos: Download iniciado...\\n\")\n",
    "        elif (download_type == DownloadType.AE):\n",
    "            print(\"Água e Esgoto: Download iniciado...\\n\")\n",
    "\n",
    "        download_file(driver, download_type)\n",
    "       \n",
    "        '''filename = \"\"\n",
    "        for i in os.listdir():\n",
    "            if i.startswith(\"ConsolidadoMunicipio\"):\n",
    "                filename = i.split(\".\")[0] + \".\" + i.split(\".\")[1]\n",
    "        \n",
    "        old_set_download_path = set(os.listdir(LOCAL_DIRECTORY))\n",
    "        while (os.path.exists(\"/content/\" + filename + \".crdownload\")):\n",
    "            continue '''\n",
    "        \n",
    "        old_set_download_path = set(os.listdir(LOCAL_DIRECTORY))\n",
    "        filename = ''\n",
    "        while True:\n",
    "            new_set_download_path = set(os.listdir(LOCAL_DIRECTORY))\n",
    "            resulting_set = new_set_download_path.difference(old_set_download_path)\n",
    "\n",
    "            if len(resulting_set) > 0: \n",
    "                filename = list(resulting_set)[0]\n",
    "\n",
    "                if filename.endswith(\".csv\"):\n",
    "                    #print(filename)\n",
    "                    break\n",
    "        \n",
    "        print('Download concluído!\\n')\n",
    "        df = fix_null_bytes(LOCAL_DIRECTORY + filename)\n",
    "        \n",
    "        reference_year_values = list(df['Ano de Referência'].unique())\n",
    "        reference_year_values = list(filter(lambda x: x.isnumeric(), reference_year_values))\n",
    "        \n",
    "        init_year = min(reference_year_values)\n",
    "        final_year = max(reference_year_values)\n",
    "        \n",
    "        os.remove(LOCAL_DIRECTORY + filename)\n",
    "         \n",
    "        landing_zone_path = ''\n",
    "        new_filename = ''\n",
    "        if (download_type == DownloadType.RS):\n",
    "            \n",
    "            landing_zone_path = DATABASE_PATH + f'residuos_solidos_{init_year}_{final_year}'\n",
    "            \n",
    "            new_filename = add_bold_string(f'residuos_solidos_{init_year}_{final_year}')\n",
    "\n",
    "        elif (download_type == DownloadType.AE):\n",
    "            \n",
    "            landing_zone_path = DATABASE_PATH + f'agua_esgoto_{init_year}_{final_year}'\n",
    "            \n",
    "            new_filename = add_bold_string(f'agua_esgoto_{init_year}_{final_year}')\n",
    "        \n",
    "        if not path_exists(landing_zone_path):\n",
    "            df_spark = spark.createDataFrame(df)\n",
    "            df_spark = df_spark.withColumn('timestamp_ingestao',current_timestamp())\n",
    "\n",
    "            print(f\"Salvando o arquivo {new_filename} na landing-zone...\\n\")\n",
    "            df_spark.write.format(\"parquet\").mode(\"overwrite\").save(landing_zone_path)\n",
    "\n",
    "            print(f\"O arquivo foi salvo na landing-zone!\\n\")\n",
    "            \n",
    "        else:\n",
    "            print(f\"O arquivo {new_filename} já está presente na landing-zone!\\n\")\n",
    "\n",
    "except Exception as e:\n",
    "    driver.quit()\n",
    "    logger.exception(e)"
   ]
  },
  {
   "cell_type": "code",
   "execution_count": 0,
   "metadata": {
    "application/vnd.databricks.v1+cell": {
     "cellMetadata": {},
     "inputWidgets": {},
     "nuid": "7de9a447-b06b-4084-9acf-acb6e34393d5",
     "showTitle": false,
     "tableResultSettingsMap": {},
     "title": ""
    }
   },
   "outputs": [],
   "source": [
    "os.listdir(LOCAL_DIRECTORY)"
   ]
  },
  {
   "cell_type": "code",
   "execution_count": 0,
   "metadata": {
    "application/vnd.databricks.v1+cell": {
     "cellMetadata": {},
     "inputWidgets": {},
     "nuid": "477da29d-83f2-42ab-8c3d-b7f161693305",
     "showTitle": false,
     "tableResultSettingsMap": {},
     "title": ""
    }
   },
   "outputs": [],
   "source": [
    "files = os.listdir(LOCAL_DIRECTORY)\n",
    "for filename in files:\n",
    "    if filename.endswith('.csv') or filename.endswith('.crdownload'):\n",
    "        os.remove(LOCAL_DIRECTORY + filename)"
   ]
  }
 ],
 "metadata": {
  "application/vnd.databricks.v1+notebook": {
   "computePreferences": null,
   "dashboards": [],
   "environmentMetadata": null,
   "inputWidgetPreferences": null,
   "language": "python",
   "notebookMetadata": {
    "pythonIndentUnit": 2
   },
   "notebookName": "extracao_residuos_solidos_agua_esgoto",
   "widgets": {}
  },
  "kernelspec": {
   "display_name": "Python 3",
   "language": "python",
   "name": "python3"
  },
  "language_info": {
   "codemirror_mode": {
    "name": "ipython",
    "version": 3
   },
   "file_extension": ".py",
   "mimetype": "text/x-python",
   "name": "python",
   "nbconvert_exporter": "python",
   "pygments_lexer": "ipython3",
   "version": "3.10.9"
  }
 },
 "nbformat": 4,
 "nbformat_minor": 0
}
